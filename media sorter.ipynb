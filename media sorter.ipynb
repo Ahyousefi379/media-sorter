{
 "cells": [
  {
   "cell_type": "code",
   "execution_count": 83,
   "id": "5d1c32eb-cf07-475e-886b-89418a7212a5",
   "metadata": {},
   "outputs": [],
   "source": [
    "import os\n",
    "import shutil\n",
    "from datetime import datetime\n",
    "from khayyam import *\n",
    "from os import listdir,makedirs\n",
    "from os.path import isfile, join, isdir,basename\n",
    "\n",
    "#creates a list of existing png, jpg and mp4 files in a directory\n",
    "def file_list(mypath):\n",
    "    file_list = [x for x in [join(mypath, f) for f in listdir(mypath) if isfile(join(mypath, f))] if \".png\" in x or \".jpg\" in x or \"mp4\" in x]\n",
    "    return file_list\n",
    "\n",
    "#creates a list of directories in a directory\n",
    "y=[str(j) for j in range(1380,1420)]\n",
    "\n",
    "def dir_list(mypath):\n",
    "    d_list=[join(mypath, d) + \"/\" for d in listdir(mypath) if isdir(join(mypath , d)) and join(mypath , d) not in file_list(mypath)]\n",
    "    for d in d_list:\n",
    "        for x in y:\n",
    "            if x in d:\n",
    "                d_list.remove(d)\n",
    "    return d_list\n",
    "\n",
    "\n",
    "#returns the modification date of a file\n",
    "def mod_date(path):\n",
    "    time=os.path.getmtime(path)\n",
    "    d=JalaliDatetime(datetime.fromtimestamp(time))\n",
    "    date=d.strftime(\"%d %G %Y\" )\n",
    "    return date\n",
    "\n",
    "#creates a dict of png,jpg,mp4 file paths as keys and their modification date as values\n",
    "def file_date_dict(file_list):\n",
    "    file_dict={}\n",
    "    for file in file_list:\n",
    "        file_dict.update({file : mod_date(file)})\n",
    "    return file_dict\n",
    "\n"
   ]
  },
  {
   "cell_type": "code",
   "execution_count": null,
   "id": "d02dfb73-24de-4644-adda-84748f6ced6a",
   "metadata": {},
   "outputs": [],
   "source": []
  },
  {
   "cell_type": "code",
   "execution_count": 88,
   "id": "47c502d0-f767-4dff-8f6e-c8a4b7659833",
   "metadata": {},
   "outputs": [],
   "source": [
    "path=\"D:\\wallpaper\".replace(\"\\\\\",\"/\")\n"
   ]
  },
  {
   "cell_type": "code",
   "execution_count": 89,
   "id": "47bb7d53-d02b-473e-abd5-9ae3f8ee61e5",
   "metadata": {},
   "outputs": [],
   "source": [
    "def dir_sorter(path):\n",
    "    m_dic={\n",
    "        \"Farvardin\":1,\n",
    "        \"Ordibehesht\":2,\n",
    "        \"Khordad\":3,\n",
    "        \"Tir\":4,\n",
    "        \"Mordad\":5,\n",
    "        \"Shahrivar\":6,\n",
    "        \"Mehr\":7,\n",
    "        \"Aban\":8,\n",
    "        \"Azar\":9,\n",
    "        \"Dey\":10,\n",
    "        \"Bahman\":11,\n",
    "        \"Esfand\":12,\n",
    "    }\n",
    "    #gets all the files in a path and creates the path:date dict\n",
    "    files = file_list(path)\n",
    "    file_dict=file_date_dict(files)\n",
    "    \n",
    "    months=set(x.split()[2]+\n",
    "               \"/\"+\n",
    "               f\"{m_dic.get(x.split()[1])}-\"+x.split()[1]\n",
    "               for x in file_dict.values())\n",
    "    \n",
    "    \n",
    "    for m in months:\n",
    "        makedirs(join(path,m),exist_ok=True)\n",
    "     \n",
    "    for f in file_dict.items():\n",
    "        shutil.copy2(f[0],join(f[0].replace(basename(f[0]),\"\"),f[1].split()[2],f\"{m_dic.get(f[1].split()[1])}-\"+f[1].split()[1],basename(f[0])))\n",
    "\n",
    "    #gets all the directories in a path \n",
    "    directory_list = dir_list(path)    \n",
    "    for i in directory_list:\n",
    "        dir_sorter(i)"
   ]
  },
  {
   "cell_type": "code",
   "execution_count": 90,
   "id": "0079dbc6-c0d3-434b-a941-d48a2e0f4bdb",
   "metadata": {},
   "outputs": [],
   "source": [
    "dir_sorter(path)"
   ]
  },
  {
   "cell_type": "code",
   "execution_count": null,
   "id": "4bc28dd2-7222-42a5-8770-d391ff925b3e",
   "metadata": {},
   "outputs": [],
   "source": []
  },
  {
   "cell_type": "code",
   "execution_count": null,
   "id": "7051839a-a346-4f61-b1a6-397f7233db0c",
   "metadata": {},
   "outputs": [],
   "source": []
  },
  {
   "cell_type": "code",
   "execution_count": null,
   "id": "d2fcd3cf-b2e6-4518-a672-03ef545a0924",
   "metadata": {},
   "outputs": [],
   "source": [
    "\n"
   ]
  },
  {
   "cell_type": "code",
   "execution_count": null,
   "id": "dfc192f0-e142-4c3b-833b-2dd8868cd83e",
   "metadata": {},
   "outputs": [],
   "source": []
  },
  {
   "cell_type": "code",
   "execution_count": null,
   "id": "5350573e-3db8-4473-ac45-3c0942b6c84c",
   "metadata": {},
   "outputs": [],
   "source": []
  }
 ],
 "metadata": {
  "kernelspec": {
   "display_name": "Python 3 (ipykernel)",
   "language": "python",
   "name": "python3"
  },
  "language_info": {
   "codemirror_mode": {
    "name": "ipython",
    "version": 3
   },
   "file_extension": ".py",
   "mimetype": "text/x-python",
   "name": "python",
   "nbconvert_exporter": "python",
   "pygments_lexer": "ipython3",
   "version": "3.9.7"
  }
 },
 "nbformat": 4,
 "nbformat_minor": 5
}
